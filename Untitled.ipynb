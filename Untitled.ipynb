{
 "cells": [
  {
   "cell_type": "code",
   "execution_count": 1,
   "id": "0105bc69",
   "metadata": {},
   "outputs": [],
   "source": [
    "def replaceChar(s,a,b):\n",
    "    if len(s) == 0:\n",
    "        return s\n",
    "    \n",
    "    smallOutput = replaceChar(s[1:],a,b)\n",
    "    if s[0] == a:\n",
    "        return b + smallOutput\n",
    "    else:\n",
    "        return s[0] + smallOutput"
   ]
  },
  {
   "cell_type": "code",
   "execution_count": 2,
   "id": "9600d0c6",
   "metadata": {},
   "outputs": [
    {
     "data": {
      "text/plain": [
       "'my nAme is DevyAnsh shuklA'"
      ]
     },
     "execution_count": 2,
     "metadata": {},
     "output_type": "execute_result"
    }
   ],
   "source": [
    "replaceChar('my name is Devyansh shukla','a','A')"
   ]
  },
  {
   "cell_type": "code",
   "execution_count": 5,
   "id": "a24fb358",
   "metadata": {},
   "outputs": [],
   "source": [
    "def remove_char(s,a,b):\n",
    "    if len(s) == 0:\n",
    "        return s\n",
    "    small_out = remove_char(s[1:],a,b)\n",
    "    if s[0] == a:\n",
    "        return b + small_out\n",
    "    else:\n",
    "        return s[0] + small_out"
   ]
  },
  {
   "cell_type": "code",
   "execution_count": 10,
   "id": "66a95f46",
   "metadata": {},
   "outputs": [
    {
     "data": {
      "text/plain": [
       "'abc'"
      ]
     },
     "execution_count": 10,
     "metadata": {},
     "output_type": "execute_result"
    }
   ],
   "source": [
    "remove_char('abcx','x','')"
   ]
  },
  {
   "cell_type": "code",
   "execution_count": 11,
   "id": "6a5f5429",
   "metadata": {},
   "outputs": [],
   "source": [
    "def replace_pi(s):\n",
    "    # base case\n",
    "    if len(s)==0 or len(s)==1:\n",
    "        return s\n",
    "    \n",
    "    if s[0]=='p' and s[1]=='i':\n",
    "        small_output = replace_pi(s[2:])\n",
    "        return \"3.14\" + small_output\n",
    "    \n",
    "    else:\n",
    "        small_output = replace_pi(s[1:])\n",
    "        return s[0] + small_output"
   ]
  },
  {
   "cell_type": "code",
   "execution_count": 13,
   "id": "fc8e0477",
   "metadata": {},
   "outputs": [
    {
     "data": {
      "text/plain": [
       "'abc3.14d'"
      ]
     },
     "execution_count": 13,
     "metadata": {},
     "output_type": "execute_result"
    }
   ],
   "source": [
    "replace_pi('abcpid')"
   ]
  },
  {
   "cell_type": "code",
   "execution_count": 15,
   "id": "28d3c07e",
   "metadata": {},
   "outputs": [
    {
     "data": {
      "text/plain": [
       "'p3.14'"
      ]
     },
     "execution_count": 15,
     "metadata": {},
     "output_type": "execute_result"
    }
   ],
   "source": [
    "replace_pi('ppi')"
   ]
  },
  {
   "cell_type": "code",
   "execution_count": 16,
   "id": "71b8cd4d",
   "metadata": {},
   "outputs": [],
   "source": [
    "def remove_duplicate(s):\n",
    "    if len(s)==0:  # Base case\n",
    "        return s\n",
    "    \n",
    "    if s[0] == s[1]:\n",
    "        small_out = remove_duplicate(s[2:])\n",
    "        return s[0] + small_out\n",
    "    \n",
    "    else:\n",
    "        small_out = remove_duplicate(s[1:])\n",
    "        return s[0] + small_out"
   ]
  },
  {
   "cell_type": "code",
   "execution_count": 18,
   "id": "fc1099f9",
   "metadata": {},
   "outputs": [
    {
     "data": {
      "text/plain": [
       "'abcded'"
      ]
     },
     "execution_count": 18,
     "metadata": {},
     "output_type": "execute_result"
    }
   ],
   "source": [
    "remove_duplicate('aabcddedd')"
   ]
  },
  {
   "cell_type": "code",
   "execution_count": 23,
   "id": "9ad90e42",
   "metadata": {},
   "outputs": [
    {
     "data": {
      "text/plain": [
       "['a', 'd', 'e', 'h', 'n', 's', 'v', 'y']"
      ]
     },
     "execution_count": 23,
     "metadata": {},
     "output_type": "execute_result"
    }
   ],
   "source": [
    "sorted('devyansh')"
   ]
  },
  {
   "cell_type": "code",
   "execution_count": 31,
   "id": "077e0bc7",
   "metadata": {},
   "outputs": [],
   "source": [
    "def binary_search(lis,x,si,ei):\n",
    "    # Base case\n",
    "    if si > ei:\n",
    "        return -1\n",
    "    \n",
    "    mid_point = (si+ei)//2\n",
    "    \n",
    "    if lis[mid_point] == x:\n",
    "        return mid_point\n",
    "    elif lis[mid_point] > x:\n",
    "        return binary_search(lis,x,si,mid_point -1)\n",
    "    elif lis[mid_point] < x:\n",
    "        return binary_search(lis,x,mid_point + 1,ei)"
   ]
  },
  {
   "cell_type": "code",
   "execution_count": 49,
   "id": "6d2d67fc",
   "metadata": {},
   "outputs": [
    {
     "data": {
      "text/plain": [
       "-1"
      ]
     },
     "execution_count": 49,
     "metadata": {},
     "output_type": "execute_result"
    }
   ],
   "source": [
    "l=[1,3,5,7,9,11,13,15,16,17]\n",
    "binary_search(l,18,0,9)"
   ]
  },
  {
   "cell_type": "markdown",
   "id": "4f9d44a4",
   "metadata": {},
   "source": [
    "# Merge sort using recursion"
   ]
  },
  {
   "cell_type": "code",
   "execution_count": 50,
   "id": "78d7f3ac",
   "metadata": {},
   "outputs": [],
   "source": [
    "def merge(a1,a2,a):\n",
    "    i=0\n",
    "    j=0\n",
    "    k=0\n",
    "    \n",
    "    while i<len(a1) and j<len(a2):\n",
    "        if (a1[i] < a2[j]):\n",
    "            a[k] = a1[i]\n",
    "            k = k+1\n",
    "            i = i+1\n",
    "        \n",
    "        else:\n",
    "            a[k] = a2[j]\n",
    "            k=k+1\n",
    "            j = j+1\n",
    "            \n",
    "    while i < len(a1):\n",
    "        a[k] = a1[i]\n",
    "        k=k+1\n",
    "        i=i+1\n",
    "        \n",
    "    while j < len(a2):\n",
    "        a[k] = a2[j]\n",
    "        k = k+1\n",
    "        j = j+1"
   ]
  },
  {
   "cell_type": "code",
   "execution_count": null,
   "id": "fa6c86cc",
   "metadata": {},
   "outputs": [],
   "source": [
    "def merge_sort(a):\n",
    "    if len(a) == 0 or len(a) == 1:\n",
    "        return\n",
    "    \n",
    "    mid = len(a)//2\n",
    "    a1 = a[0:mid]\n",
    "    a2 = a[mid:]\n",
    "    \n",
    "    merge_sort(a1)\n",
    "    merge_sort(a2)\n",
    "    \n",
    "    merge(a1,a2,a)"
   ]
  }
 ],
 "metadata": {
  "kernelspec": {
   "display_name": "Python 3 (ipykernel)",
   "language": "python",
   "name": "python3"
  },
  "language_info": {
   "codemirror_mode": {
    "name": "ipython",
    "version": 3
   },
   "file_extension": ".py",
   "mimetype": "text/x-python",
   "name": "python",
   "nbconvert_exporter": "python",
   "pygments_lexer": "ipython3",
   "version": "3.11.3"
  }
 },
 "nbformat": 4,
 "nbformat_minor": 5
}
