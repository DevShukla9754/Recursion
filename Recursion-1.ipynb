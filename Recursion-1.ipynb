{
 "cells": [
  {
   "cell_type": "code",
   "execution_count": 2,
   "id": "80c63f05",
   "metadata": {},
   "outputs": [],
   "source": [
    "def fact(n):\n",
    "    if n == 1 or n == 0:   # base case\n",
    "        return 1\n",
    "    \n",
    "    small_out = fact(n-1)   # Induction Hypothesis\n",
    "    \n",
    "    return n*small_out"
   ]
  },
  {
   "cell_type": "code",
   "execution_count": 4,
   "id": "ef233f4a",
   "metadata": {},
   "outputs": [
    {
     "name": "stdout",
     "output_type": "stream",
     "text": [
      "Enter the number\n",
      "3\n"
     ]
    },
    {
     "data": {
      "text/plain": [
       "6"
      ]
     },
     "execution_count": 4,
     "metadata": {},
     "output_type": "execute_result"
    }
   ],
   "source": [
    "n = int(input('Enter the number\\n'))\n",
    "fact(n)\n"
   ]
  },
  {
   "cell_type": "code",
   "execution_count": 15,
   "id": "e50bef11",
   "metadata": {},
   "outputs": [],
   "source": [
    "# Sum of n natural numbers\n",
    "\n",
    "def sum_n(n):\n",
    "    \n",
    "    if n == 0:   # Base case\n",
    "        return 0\n",
    "    small_output = sum_n(n-1)   # Induction Hypothesis\n",
    "    return n + small_output"
   ]
  },
  {
   "cell_type": "code",
   "execution_count": 17,
   "id": "32afd8a0",
   "metadata": {},
   "outputs": [
    {
     "data": {
      "text/plain": [
       "66"
      ]
     },
     "execution_count": 17,
     "metadata": {},
     "output_type": "execute_result"
    }
   ],
   "source": [
    "sum_n(11)"
   ]
  },
  {
   "cell_type": "code",
   "execution_count": 18,
   "id": "1e269879",
   "metadata": {},
   "outputs": [],
   "source": [
    "# Power of a number\n",
    "\n",
    "def Power(x,n):\n",
    "    \n",
    "    if n == 0:\n",
    "        return 1   # base case\n",
    "    \n",
    "    small_output = Power(x,n-1)   # Induction Hypothesis\n",
    "    \n",
    "    return x*Power(x,n-1)"
   ]
  },
  {
   "cell_type": "code",
   "execution_count": 22,
   "id": "bee907f1",
   "metadata": {},
   "outputs": [
    {
     "name": "stdout",
     "output_type": "stream",
     "text": [
      "Enter the value of x\n",
      "2\n",
      "Enter the value of n\n",
      "3\n"
     ]
    },
    {
     "data": {
      "text/plain": [
       "8"
      ]
     },
     "execution_count": 22,
     "metadata": {},
     "output_type": "execute_result"
    }
   ],
   "source": [
    "x = int(input('Enter the value of x\\n'))\n",
    "n = int(input('Enter the value of n\\n'))\n",
    "\n",
    "Power(x,n)"
   ]
  },
  {
   "cell_type": "code",
   "execution_count": 32,
   "id": "c9655748",
   "metadata": {},
   "outputs": [],
   "source": [
    "# Print N Natural Numbers\n",
    "\n",
    "def N_natural_nos(n):\n",
    "    if n == 0:\n",
    "        return\n",
    "#     elif n ==1 :\n",
    "#         return 1\n",
    "    print(n,end=' ')\n",
    "    \n",
    "    return N_natural_nos(n-1)"
   ]
  },
  {
   "cell_type": "code",
   "execution_count": 33,
   "id": "3524a202",
   "metadata": {},
   "outputs": [
    {
     "name": "stdout",
     "output_type": "stream",
     "text": [
      "10 9 8 7 6 5 4 3 2 1 "
     ]
    }
   ],
   "source": [
    "N_natural_nos(10)"
   ]
  },
  {
   "cell_type": "code",
   "execution_count": 34,
   "id": "190d6ed8",
   "metadata": {},
   "outputs": [],
   "source": [
    "# Print N Natural Number\n",
    "\n",
    "def N_reverse(n):\n",
    "    if n ==0 :\n",
    "        return\n",
    "    \n",
    "    small_output = N_reverse(n-1)\n",
    "    \n",
    "    print(n)\n",
    "    "
   ]
  },
  {
   "cell_type": "code",
   "execution_count": 35,
   "id": "12883faf",
   "metadata": {},
   "outputs": [
    {
     "name": "stdout",
     "output_type": "stream",
     "text": [
      "1\n",
      "2\n",
      "3\n",
      "4\n",
      "5\n",
      "6\n",
      "7\n",
      "8\n",
      "9\n",
      "10\n"
     ]
    }
   ],
   "source": [
    "N_reverse(10)"
   ]
  },
  {
   "cell_type": "code",
   "execution_count": 36,
   "id": "898c2ebd",
   "metadata": {},
   "outputs": [],
   "source": [
    "# Coding ninja code for above problem....N natural numbers\n",
    "\n",
    "def print_1_to_n(n):\n",
    "    \n",
    "    if n == 0:  # base case\n",
    "        return\n",
    "    \n",
    "    print_1_to_n(n-1)   # Induction Hypothesis\n",
    "    \n",
    "    print(n)\n",
    "    return"
   ]
  },
  {
   "cell_type": "code",
   "execution_count": 37,
   "id": "4359eed0",
   "metadata": {},
   "outputs": [
    {
     "name": "stdout",
     "output_type": "stream",
     "text": [
      "1\n",
      "2\n",
      "3\n",
      "4\n",
      "5\n",
      "6\n",
      "7\n",
      "8\n",
      "9\n",
      "10\n"
     ]
    }
   ],
   "source": [
    "print_1_to_n(10)"
   ]
  },
  {
   "cell_type": "code",
   "execution_count": 38,
   "id": "4d3d1fcf",
   "metadata": {},
   "outputs": [],
   "source": [
    "def print_n_to_1(n):\n",
    "    \n",
    "    if n == 0:  # base case\n",
    "        return\n",
    "    \n",
    "    print(n)\n",
    "    \n",
    "    print_n_to_1(n-1)   # Induction Hypothesis\n",
    "    \n",
    "    return"
   ]
  },
  {
   "cell_type": "code",
   "execution_count": 39,
   "id": "b882e9d2",
   "metadata": {},
   "outputs": [
    {
     "name": "stdout",
     "output_type": "stream",
     "text": [
      "10\n",
      "9\n",
      "8\n",
      "7\n",
      "6\n",
      "5\n",
      "4\n",
      "3\n",
      "2\n",
      "1\n"
     ]
    }
   ],
   "source": [
    "print_n_to_1(10)"
   ]
  },
  {
   "cell_type": "code",
   "execution_count": 48,
   "id": "9906da75",
   "metadata": {},
   "outputs": [],
   "source": [
    "# Fibonacci Series using Recursion\n",
    "\n",
    "def print_n_fibbonacci(n):\n",
    "    \n",
    "    if n ==1 or n==2:   # base case\n",
    "        return 1\n",
    "    \n",
    "    \n",
    "    \n",
    "    fib_n_1 = print_n_fibbonacci(n-1)\n",
    "    fib_n_2 = print_n_fibbonacci(n-2)    \n",
    "    \n",
    "    output = fib_n_1 + fib_n_2\n",
    "    \n",
    "    return output"
   ]
  },
  {
   "cell_type": "code",
   "execution_count": 49,
   "id": "e9f3fb87",
   "metadata": {},
   "outputs": [
    {
     "data": {
      "text/plain": [
       "8"
      ]
     },
     "execution_count": 49,
     "metadata": {},
     "output_type": "execute_result"
    }
   ],
   "source": [
    "print_n_fibbonacci(6)"
   ]
  },
  {
   "cell_type": "code",
   "execution_count": 61,
   "id": "185b8647",
   "metadata": {},
   "outputs": [],
   "source": [
    "# We use library sys for exceeding the recursion limit\n",
    "import sys"
   ]
  },
  {
   "cell_type": "code",
   "execution_count": 62,
   "id": "be7b66b4",
   "metadata": {},
   "outputs": [],
   "source": [
    "sys.setrecursionlimit(3000)"
   ]
  },
  {
   "cell_type": "code",
   "execution_count": 67,
   "id": "cc86a356",
   "metadata": {},
   "outputs": [
    {
     "ename": "ValueError",
     "evalue": "Exceeds the limit (4300 digits) for integer string conversion; use sys.set_int_max_str_digits() to increase the limit",
     "output_type": "error",
     "traceback": [
      "\u001b[1;31m---------------------------------------------------------------------------\u001b[0m",
      "\u001b[1;31mValueError\u001b[0m                                Traceback (most recent call last)",
      "File \u001b[1;32m~\\AppData\\Local\\Programs\\Python\\Python311\\Lib\\site-packages\\IPython\\core\\formatters.py:708\u001b[0m, in \u001b[0;36mPlainTextFormatter.__call__\u001b[1;34m(self, obj)\u001b[0m\n\u001b[0;32m    701\u001b[0m stream \u001b[38;5;241m=\u001b[39m StringIO()\n\u001b[0;32m    702\u001b[0m printer \u001b[38;5;241m=\u001b[39m pretty\u001b[38;5;241m.\u001b[39mRepresentationPrinter(stream, \u001b[38;5;28mself\u001b[39m\u001b[38;5;241m.\u001b[39mverbose,\n\u001b[0;32m    703\u001b[0m     \u001b[38;5;28mself\u001b[39m\u001b[38;5;241m.\u001b[39mmax_width, \u001b[38;5;28mself\u001b[39m\u001b[38;5;241m.\u001b[39mnewline,\n\u001b[0;32m    704\u001b[0m     max_seq_length\u001b[38;5;241m=\u001b[39m\u001b[38;5;28mself\u001b[39m\u001b[38;5;241m.\u001b[39mmax_seq_length,\n\u001b[0;32m    705\u001b[0m     singleton_pprinters\u001b[38;5;241m=\u001b[39m\u001b[38;5;28mself\u001b[39m\u001b[38;5;241m.\u001b[39msingleton_printers,\n\u001b[0;32m    706\u001b[0m     type_pprinters\u001b[38;5;241m=\u001b[39m\u001b[38;5;28mself\u001b[39m\u001b[38;5;241m.\u001b[39mtype_printers,\n\u001b[0;32m    707\u001b[0m     deferred_pprinters\u001b[38;5;241m=\u001b[39m\u001b[38;5;28mself\u001b[39m\u001b[38;5;241m.\u001b[39mdeferred_printers)\n\u001b[1;32m--> 708\u001b[0m \u001b[43mprinter\u001b[49m\u001b[38;5;241;43m.\u001b[39;49m\u001b[43mpretty\u001b[49m\u001b[43m(\u001b[49m\u001b[43mobj\u001b[49m\u001b[43m)\u001b[49m\n\u001b[0;32m    709\u001b[0m printer\u001b[38;5;241m.\u001b[39mflush()\n\u001b[0;32m    710\u001b[0m \u001b[38;5;28;01mreturn\u001b[39;00m stream\u001b[38;5;241m.\u001b[39mgetvalue()\n",
      "File \u001b[1;32m~\\AppData\\Local\\Programs\\Python\\Python311\\Lib\\site-packages\\IPython\\lib\\pretty.py:393\u001b[0m, in \u001b[0;36mRepresentationPrinter.pretty\u001b[1;34m(self, obj)\u001b[0m\n\u001b[0;32m    390\u001b[0m \u001b[38;5;28;01mfor\u001b[39;00m \u001b[38;5;28mcls\u001b[39m \u001b[38;5;129;01min\u001b[39;00m _get_mro(obj_class):\n\u001b[0;32m    391\u001b[0m     \u001b[38;5;28;01mif\u001b[39;00m \u001b[38;5;28mcls\u001b[39m \u001b[38;5;129;01min\u001b[39;00m \u001b[38;5;28mself\u001b[39m\u001b[38;5;241m.\u001b[39mtype_pprinters:\n\u001b[0;32m    392\u001b[0m         \u001b[38;5;66;03m# printer registered in self.type_pprinters\u001b[39;00m\n\u001b[1;32m--> 393\u001b[0m         \u001b[38;5;28;01mreturn\u001b[39;00m \u001b[38;5;28;43mself\u001b[39;49m\u001b[38;5;241;43m.\u001b[39;49m\u001b[43mtype_pprinters\u001b[49m\u001b[43m[\u001b[49m\u001b[38;5;28;43mcls\u001b[39;49m\u001b[43m]\u001b[49m\u001b[43m(\u001b[49m\u001b[43mobj\u001b[49m\u001b[43m,\u001b[49m\u001b[43m \u001b[49m\u001b[38;5;28;43mself\u001b[39;49m\u001b[43m,\u001b[49m\u001b[43m \u001b[49m\u001b[43mcycle\u001b[49m\u001b[43m)\u001b[49m\n\u001b[0;32m    394\u001b[0m     \u001b[38;5;28;01melse\u001b[39;00m:\n\u001b[0;32m    395\u001b[0m         \u001b[38;5;66;03m# deferred printer\u001b[39;00m\n\u001b[0;32m    396\u001b[0m         printer \u001b[38;5;241m=\u001b[39m \u001b[38;5;28mself\u001b[39m\u001b[38;5;241m.\u001b[39m_in_deferred_types(\u001b[38;5;28mcls\u001b[39m)\n",
      "File \u001b[1;32m~\\AppData\\Local\\Programs\\Python\\Python311\\Lib\\site-packages\\IPython\\lib\\pretty.py:778\u001b[0m, in \u001b[0;36m_repr_pprint\u001b[1;34m(obj, p, cycle)\u001b[0m\n\u001b[0;32m    776\u001b[0m \u001b[38;5;250m\u001b[39m\u001b[38;5;124;03m\"\"\"A pprint that just redirects to the normal repr function.\"\"\"\u001b[39;00m\n\u001b[0;32m    777\u001b[0m \u001b[38;5;66;03m# Find newlines and replace them with p.break_()\u001b[39;00m\n\u001b[1;32m--> 778\u001b[0m output \u001b[38;5;241m=\u001b[39m \u001b[38;5;28mrepr\u001b[39m(obj)\n\u001b[0;32m    779\u001b[0m lines \u001b[38;5;241m=\u001b[39m output\u001b[38;5;241m.\u001b[39msplitlines()\n\u001b[0;32m    780\u001b[0m \u001b[38;5;28;01mwith\u001b[39;00m p\u001b[38;5;241m.\u001b[39mgroup():\n",
      "\u001b[1;31mValueError\u001b[0m: Exceeds the limit (4300 digits) for integer string conversion; use sys.set_int_max_str_digits() to increase the limit"
     ]
    }
   ],
   "source": [
    "fact(n=2000)"
   ]
  },
  {
   "cell_type": "code",
   "execution_count": 74,
   "id": "a8016329",
   "metadata": {},
   "outputs": [],
   "source": [
    "# Given a list--->check if list is sorted\n",
    "sort = True\n",
    "def sorted_list(list_n):\n",
    "    if len(list_n) == 0 or len(list_n) ==1 :\n",
    "        return True\n",
    "        \n",
    "    if list_n[0] > list_n[1]:\n",
    "        return False\n",
    "    \n",
    "    is_smaller_list_sorted = sorted_list(list_n[1:])\n",
    "    \n",
    "    if is_smaller_list_sorted:\n",
    "        return True\n",
    "    else:\n",
    "        return False\n",
    "    "
   ]
  },
  {
   "cell_type": "code",
   "execution_count": 76,
   "id": "75908f0f",
   "metadata": {},
   "outputs": [
    {
     "data": {
      "text/plain": [
       "True"
      ]
     },
     "execution_count": 76,
     "metadata": {},
     "output_type": "execute_result"
    }
   ],
   "source": [
    "list_n = [1,3,4,5,6,7,8,9]\n",
    "\n",
    "sorted_list(list_n)"
   ]
  },
  {
   "cell_type": "code",
   "execution_count": 99,
   "id": "b961029b",
   "metadata": {},
   "outputs": [],
   "source": [
    "# Sum of array\n",
    "\n",
    "def sum_array(lst):\n",
    "    l = len(lst)\n",
    "    \n",
    "    if l == 0:\n",
    "        return 0\n",
    "    elif l == 1:\n",
    "        return lst[0]\n",
    "    \n",
    "    temp = sum_array(lst[1:])\n",
    "    \n",
    "    return lst[0] + temp"
   ]
  },
  {
   "cell_type": "code",
   "execution_count": 100,
   "id": "fd9d4b18",
   "metadata": {},
   "outputs": [
    {
     "data": {
      "text/plain": [
       "28"
      ]
     },
     "execution_count": 100,
     "metadata": {},
     "output_type": "execute_result"
    }
   ],
   "source": [
    "lst = [7,4,9,11,-3]\n",
    "sum_array(lst)"
   ]
  },
  {
   "cell_type": "code",
   "execution_count": 117,
   "id": "bc7d32f8",
   "metadata": {},
   "outputs": [],
   "source": [
    "# Check if number is in the array or not\n",
    "\n",
    "def check_number(x,lst):\n",
    "    Flag =True\n",
    "    if len(lst) == 0:\n",
    "        Flag = False\n",
    "        return False\n",
    "    if lst[0] == x:\n",
    "        return Flag\n",
    "    else:\n",
    "        check_number(x,lst[1:])\n",
    "    \n",
    "    if Flag:\n",
    "        return True\n",
    "    else:\n",
    "        return False"
   ]
  },
  {
   "cell_type": "code",
   "execution_count": 118,
   "id": "cd1717c0",
   "metadata": {},
   "outputs": [
    {
     "data": {
      "text/plain": [
       "True"
      ]
     },
     "execution_count": 118,
     "metadata": {},
     "output_type": "execute_result"
    }
   ],
   "source": [
    "lst = [1,2,3,4,5,6,7]\n",
    "\n",
    "check_number(600000,lst)"
   ]
  },
  {
   "cell_type": "code",
   "execution_count": 119,
   "id": "6830aa0e",
   "metadata": {},
   "outputs": [],
   "source": [
    "# Another method Given a list--->check if list is sorted\n",
    "def another_sorted(lst,si):\n",
    "    l = len(lst)\n",
    "    \n",
    "    if si == l-1 or si == l:\n",
    "        return True\n",
    "    \n",
    "    if lst[si] > lst[si+1]:\n",
    "        return False\n",
    "    \n",
    "    is_small_part_sorted = another_sorted(lst,si+1)\n",
    "    \n",
    "    return is_small_part_sorted"
   ]
  },
  {
   "cell_type": "code",
   "execution_count": 122,
   "id": "4aa05203",
   "metadata": {},
   "outputs": [
    {
     "data": {
      "text/plain": [
       "False"
      ]
     },
     "execution_count": 122,
     "metadata": {},
     "output_type": "execute_result"
    }
   ],
   "source": [
    "a = [1,2,3,4,5,6,70,8]\n",
    "another_sorted(a,0)"
   ]
  },
  {
   "cell_type": "code",
   "execution_count": 18,
   "id": "e30852f2",
   "metadata": {},
   "outputs": [],
   "source": [
    "# Index of First occurence of an integer by making copy of list\n",
    "\n",
    "def first_occurence(lst,x):\n",
    "    l = len(lst)\n",
    "    \n",
    "    # Base Case\n",
    "    if l==0:\n",
    "        return -1\n",
    "    \n",
    "    if lst[0]==x:\n",
    "        return 0\n",
    "    \n",
    "    smaller_list = lst[1:]\n",
    "    smaller_list_output = first_occurence(smaller_list,x)\n",
    "    \n",
    "    if smaller_list_output == -1:\n",
    "        return -1\n",
    "    \n",
    "    else:\n",
    "        return smaller_list_output + 1"
   ]
  },
  {
   "cell_type": "code",
   "execution_count": 19,
   "id": "a72c5f9a",
   "metadata": {},
   "outputs": [],
   "source": [
    "# Index of First occurence of an integer by without making copy of list and  using the starting index concept\n",
    "\n",
    "def first_occurence_better(lst,x,si):\n",
    "    l = len(lst)\n",
    "    \n",
    "    # base case\n",
    "    if lst[si]==l:\n",
    "        return -1\n",
    "    \n",
    "    if lst[si] == x:\n",
    "        return si\n",
    "    \n",
    "    bigger_index_list_output  = first_occurence_better(lst,x,si+1)\n",
    "    \n",
    "    return bigger_index_list_output"
   ]
  },
  {
   "cell_type": "code",
   "execution_count": 21,
   "id": "b2fcc457",
   "metadata": {},
   "outputs": [
    {
     "name": "stdout",
     "output_type": "stream",
     "text": [
      "-1\n",
      "-1\n"
     ]
    }
   ],
   "source": [
    "lst = [1,2,4,5,4]\n",
    "print(first_occurence(lst,50))\n",
    "print(first_occurence_better(lst,60000,0))"
   ]
  },
  {
   "cell_type": "code",
   "execution_count": null,
   "id": "1f35a1d6",
   "metadata": {},
   "outputs": [],
   "source": []
  }
 ],
 "metadata": {
  "kernelspec": {
   "display_name": "Python 3 (ipykernel)",
   "language": "python",
   "name": "python3"
  },
  "language_info": {
   "codemirror_mode": {
    "name": "ipython",
    "version": 3
   },
   "file_extension": ".py",
   "mimetype": "text/x-python",
   "name": "python",
   "nbconvert_exporter": "python",
   "pygments_lexer": "ipython3",
   "version": "3.11.3"
  }
 },
 "nbformat": 4,
 "nbformat_minor": 5
}
